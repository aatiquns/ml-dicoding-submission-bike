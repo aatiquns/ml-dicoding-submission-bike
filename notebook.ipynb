{
  "cells": [
    {
      "cell_type": "markdown",
      "metadata": {
        "id": "H9wADwK78DCz"
      },
      "source": [
        "# Proyek Analisis Data: [Input Nama Dataset]\n",
        "- **Nama:** Abdullah Atiq\n",
        "- **Email:** atiqabdullah140@gmail.com\n",
        "- **ID Dicoding:** abdullah_atiq_29"
      ]
    },
    {
      "cell_type": "markdown",
      "metadata": {
        "id": "eE0raob58DC0"
      },
      "source": [
        "## Menentukan Pertanyaan Bisnis"
      ]
    },
    {
      "cell_type": "markdown",
      "metadata": {
        "id": "GmQeQ5YF8DC0"
      },
      "source": [
        "- Faktor apa yang paling memengaruhi jumlah penyewaan sepeda harian?\n",
        "- Bagaimana pola penyewaan sepeda berdasarkan musim dan hari kerja?"
      ]
    },
    {
      "cell_type": "markdown",
      "metadata": {
        "id": "H-z4QGlO8DC1"
      },
      "source": [
        "## Import Semua Packages/Library yang Digunakan"
      ]
    },
    {
      "cell_type": "code",
      "execution_count": 41,
      "metadata": {
        "id": "FVYwaObI8DC1"
      },
      "outputs": [],
      "source": [
        "# Import Library yang Diperlukan\n",
        "import pandas as pd\n",
        "import numpy as np\n",
        "import matplotlib.pyplot as plt\n",
        "import seaborn as sns"
      ]
    },
    {
      "cell_type": "markdown",
      "metadata": {
        "id": "h_Sh51Xy8DC1"
      },
      "source": [
        "## Data Wrangling"
      ]
    },
    {
      "cell_type": "markdown",
      "metadata": {
        "id": "sXU2GBYu8DC1"
      },
      "source": [
        "### Gathering Data"
      ]
    },
    {
      "cell_type": "code",
      "execution_count": 44,
      "metadata": {
        "id": "zjCBk1BI8DC1"
      },
      "outputs": [],
      "source": [
        "# Membaca dataset\n",
        "hour_data = pd.read_csv('hour.csv')\n",
        "day_data = pd.read_csv('day.csv')"
      ]
    },
    {
      "cell_type": "markdown",
      "source": [
        "**Insight:**\n",
        "- Pada tahap ini, kita mengumpulkan data dari dua sumber: hour.csv dan day.csv. Data ini berisi informasi tentang penyewaan sepeda, termasuk waktu, suhu, kelembapan, dan kondisi cuaca.\n",
        "- Menggabungkan kedua dataset ini memungkinkan kita untuk mendapatkan gambaran yang lebih lengkap tentang faktor-faktor yang memengaruhi penyewaan sepeda, baik dalam skala harian maupun per jam."
      ],
      "metadata": {
        "id": "MMi6xGaDkbCi"
      }
    },
    {
      "cell_type": "markdown",
      "metadata": {
        "id": "FHSiqaZp8DC1"
      },
      "source": [
        "### Assessing Data"
      ]
    },
    {
      "cell_type": "code",
      "source": [
        "# Melihat informasi umum tentang dataset\n",
        "print(hour_data.info())\n",
        "print(day_data.info())\n",
        "\n",
        "# Melihat beberapa baris pertama dari dataset\n",
        "print(hour_data.head())\n",
        "print(day_data.head())"
      ],
      "metadata": {
        "id": "ax-3tEjc9Cj1",
        "colab": {
          "base_uri": "https://localhost:8080/"
        },
        "outputId": "2b70d85b-aaba-4d6f-9d6b-6bf0f0a421f8"
      },
      "execution_count": 45,
      "outputs": [
        {
          "output_type": "stream",
          "name": "stdout",
          "text": [
            "<class 'pandas.core.frame.DataFrame'>\n",
            "RangeIndex: 17379 entries, 0 to 17378\n",
            "Data columns (total 17 columns):\n",
            " #   Column      Non-Null Count  Dtype  \n",
            "---  ------      --------------  -----  \n",
            " 0   instant     17379 non-null  int64  \n",
            " 1   dteday      17379 non-null  object \n",
            " 2   season      17379 non-null  int64  \n",
            " 3   yr          17379 non-null  int64  \n",
            " 4   mnth        17379 non-null  int64  \n",
            " 5   hr          17379 non-null  int64  \n",
            " 6   holiday     17379 non-null  int64  \n",
            " 7   weekday     17379 non-null  int64  \n",
            " 8   workingday  17379 non-null  int64  \n",
            " 9   weathersit  17379 non-null  int64  \n",
            " 10  temp        17379 non-null  float64\n",
            " 11  atemp       17379 non-null  float64\n",
            " 12  hum         17379 non-null  float64\n",
            " 13  windspeed   17379 non-null  float64\n",
            " 14  casual      17379 non-null  int64  \n",
            " 15  registered  17379 non-null  int64  \n",
            " 16  cnt         17379 non-null  int64  \n",
            "dtypes: float64(4), int64(12), object(1)\n",
            "memory usage: 2.3+ MB\n",
            "None\n",
            "<class 'pandas.core.frame.DataFrame'>\n",
            "RangeIndex: 731 entries, 0 to 730\n",
            "Data columns (total 16 columns):\n",
            " #   Column      Non-Null Count  Dtype  \n",
            "---  ------      --------------  -----  \n",
            " 0   instant     731 non-null    int64  \n",
            " 1   dteday      731 non-null    object \n",
            " 2   season      731 non-null    int64  \n",
            " 3   yr          731 non-null    int64  \n",
            " 4   mnth        731 non-null    int64  \n",
            " 5   holiday     731 non-null    int64  \n",
            " 6   weekday     731 non-null    int64  \n",
            " 7   workingday  731 non-null    int64  \n",
            " 8   weathersit  731 non-null    int64  \n",
            " 9   temp        731 non-null    float64\n",
            " 10  atemp       731 non-null    float64\n",
            " 11  hum         731 non-null    float64\n",
            " 12  windspeed   731 non-null    float64\n",
            " 13  casual      731 non-null    int64  \n",
            " 14  registered  731 non-null    int64  \n",
            " 15  cnt         731 non-null    int64  \n",
            "dtypes: float64(4), int64(11), object(1)\n",
            "memory usage: 91.5+ KB\n",
            "None\n",
            "   instant      dteday  season  yr  mnth  hr  holiday  weekday  workingday  \\\n",
            "0        1  2011-01-01       1   0     1   0        0        6           0   \n",
            "1        2  2011-01-01       1   0     1   1        0        6           0   \n",
            "2        3  2011-01-01       1   0     1   2        0        6           0   \n",
            "3        4  2011-01-01       1   0     1   3        0        6           0   \n",
            "4        5  2011-01-01       1   0     1   4        0        6           0   \n",
            "\n",
            "   weathersit  temp   atemp   hum  windspeed  casual  registered  cnt  \n",
            "0           1  0.24  0.2879  0.81        0.0       3          13   16  \n",
            "1           1  0.22  0.2727  0.80        0.0       8          32   40  \n",
            "2           1  0.22  0.2727  0.80        0.0       5          27   32  \n",
            "3           1  0.24  0.2879  0.75        0.0       3          10   13  \n",
            "4           1  0.24  0.2879  0.75        0.0       0           1    1  \n",
            "   instant      dteday  season  yr  mnth  holiday  weekday  workingday  \\\n",
            "0        1  2011-01-01       1   0     1        0        6           0   \n",
            "1        2  2011-01-02       1   0     1        0        0           0   \n",
            "2        3  2011-01-03       1   0     1        0        1           1   \n",
            "3        4  2011-01-04       1   0     1        0        2           1   \n",
            "4        5  2011-01-05       1   0     1        0        3           1   \n",
            "\n",
            "   weathersit      temp     atemp       hum  windspeed  casual  registered  \\\n",
            "0           2  0.344167  0.363625  0.805833   0.160446     331         654   \n",
            "1           2  0.363478  0.353739  0.696087   0.248539     131         670   \n",
            "2           1  0.196364  0.189405  0.437273   0.248309     120        1229   \n",
            "3           1  0.200000  0.212122  0.590435   0.160296     108        1454   \n",
            "4           1  0.226957  0.229270  0.436957   0.186900      82        1518   \n",
            "\n",
            "    cnt  \n",
            "0   985  \n",
            "1   801  \n",
            "2  1349  \n",
            "3  1562  \n",
            "4  1600  \n"
          ]
        }
      ]
    },
    {
      "cell_type": "markdown",
      "source": [
        "**Insight:**\n",
        "- Memeriksa struktur dan isi dataset sangat penting untuk memahami data yang kita miliki. Kita melihat tipe data, jumlah baris, dan kolom yang ada.\n",
        "- Dengan memahami data, kita dapat mengidentifikasi kolom yang relevan untuk analisis dan mendeteksi masalah seperti nilai yang hilang atau duplikat."
      ],
      "metadata": {
        "id": "7dtxhAPrkhPL"
      }
    },
    {
      "cell_type": "markdown",
      "metadata": {
        "id": "EhN5R4hr8DC1"
      },
      "source": [
        "### Cleaning Data"
      ]
    },
    {
      "cell_type": "code",
      "source": [
        "# Memeriksa nilai yang hilang\n",
        "print(hour_data.isnull().sum())\n",
        "print(day_data.isnull().sum())\n",
        "\n",
        "# Menghapus atau mengisi nilai yang hilang\n",
        "hour_data.dropna(inplace=True)\n",
        "day_data.dropna(inplace=True)\n",
        "\n",
        "# Memeriksa duplikasi\n",
        "hour_data.drop_duplicates(inplace=True)\n",
        "day_data.drop_duplicates(inplace=True)\n",
        "\n",
        "# Mengubah tipe data jika diperlukan\n",
        "hour_data['dteday'] = pd.to_datetime(hour_data['dteday'])\n",
        "day_data['dteday'] = pd.to_datetime(day_data['dteday'])\n",
        "\n",
        "# Mengganti nama kolom untuk menghindari konflik saat penggabungan\n",
        "day_data.rename(columns={'temp': 'day_temp', 'atemp': 'day_atemp', 'hum': 'day_hum', 'windspeed': 'day_windspeed'}, inplace=True)"
      ],
      "metadata": {
        "id": "jVnYpprE9Evz",
        "colab": {
          "base_uri": "https://localhost:8080/"
        },
        "outputId": "df3bc35b-1271-49e8-e744-60402dad2ed4"
      },
      "execution_count": 46,
      "outputs": [
        {
          "output_type": "stream",
          "name": "stdout",
          "text": [
            "instant       0\n",
            "dteday        0\n",
            "season        0\n",
            "yr            0\n",
            "mnth          0\n",
            "hr            0\n",
            "holiday       0\n",
            "weekday       0\n",
            "workingday    0\n",
            "weathersit    0\n",
            "temp          0\n",
            "atemp         0\n",
            "hum           0\n",
            "windspeed     0\n",
            "casual        0\n",
            "registered    0\n",
            "cnt           0\n",
            "dtype: int64\n",
            "instant       0\n",
            "dteday        0\n",
            "season        0\n",
            "yr            0\n",
            "mnth          0\n",
            "holiday       0\n",
            "weekday       0\n",
            "workingday    0\n",
            "weathersit    0\n",
            "temp          0\n",
            "atemp         0\n",
            "hum           0\n",
            "windspeed     0\n",
            "casual        0\n",
            "registered    0\n",
            "cnt           0\n",
            "dtype: int64\n"
          ]
        }
      ]
    },
    {
      "cell_type": "markdown",
      "source": [
        "**Insight:**\n",
        "- Pembersihan data adalah langkah krusial untuk memastikan bahwa analisis yang dilakukan akurat. Ini termasuk menghapus nilai yang hilang, menghapus duplikasi, dan memastikan tipe data yang benar.\n",
        "- Dengan membersihkan data, kita mengurangi risiko kesalahan dalam analisis dan visualisasi."
      ],
      "metadata": {
        "id": "Q_5ejIqckiSP"
      }
    },
    {
      "cell_type": "markdown",
      "metadata": {
        "id": "gp-Y6wU38DC1"
      },
      "source": [
        "## Exploratory Data Analysis (EDA)"
      ]
    },
    {
      "cell_type": "markdown",
      "metadata": {
        "id": "MW7WF2kr8DC1"
      },
      "source": [
        "### Explore ..."
      ]
    },
    {
      "cell_type": "code",
      "execution_count": 59,
      "metadata": {
        "id": "e9CQCZjk8DC2",
        "colab": {
          "base_uri": "https://localhost:8080/"
        },
        "outputId": "ec5bf741-4b8f-4738-edd9-3dc8f9a345fd"
      },
      "outputs": [
        {
          "output_type": "stream",
          "name": "stdout",
          "text": [
            "<class 'pandas.core.frame.DataFrame'>\n",
            "RangeIndex: 17379 entries, 0 to 17378\n",
            "Data columns (total 31 columns):\n",
            " #   Column         Non-Null Count  Dtype         \n",
            "---  ------         --------------  -----         \n",
            " 0   instant_x      17379 non-null  int64         \n",
            " 1   dteday         17379 non-null  datetime64[ns]\n",
            " 2   season_x       17379 non-null  int64         \n",
            " 3   yr             17379 non-null  int64         \n",
            " 4   mnth_x         17379 non-null  int64         \n",
            " 5   hr             17379 non-null  int64         \n",
            " 6   holiday_x      17379 non-null  int64         \n",
            " 7   weekday_x      17379 non-null  int64         \n",
            " 8   workingday_x   17379 non-null  int64         \n",
            " 9   weathersit_x   17379 non-null  int64         \n",
            " 10  temp           17379 non-null  float64       \n",
            " 11  atemp          17379 non-null  float64       \n",
            " 12  hum            17379 non-null  float64       \n",
            " 13  windspeed      17379 non-null  float64       \n",
            " 14  casual_x       17379 non-null  int64         \n",
            " 15  registered_x   17379 non-null  int64         \n",
            " 16  cnt_x          17379 non-null  int64         \n",
            " 17  instant_y      17379 non-null  int64         \n",
            " 18  season_y       17379 non-null  int64         \n",
            " 19  mnth_y         17379 non-null  int64         \n",
            " 20  holiday_y      17379 non-null  int64         \n",
            " 21  weekday_y      17379 non-null  int64         \n",
            " 22  workingday_y   17379 non-null  int64         \n",
            " 23  weathersit_y   17379 non-null  int64         \n",
            " 24  day_temp       17379 non-null  float64       \n",
            " 25  day_atemp      17379 non-null  float64       \n",
            " 26  day_hum        17379 non-null  float64       \n",
            " 27  day_windspeed  17379 non-null  float64       \n",
            " 28  casual_y       17379 non-null  int64         \n",
            " 29  registered_y   17379 non-null  int64         \n",
            " 30  cnt_y          17379 non-null  int64         \n",
            "dtypes: datetime64[ns](1), float64(8), int64(22)\n",
            "memory usage: 4.1 MB\n",
            "None\n",
            "        instant_x                         dteday      season_x            yr  \\\n",
            "count  17379.0000                          17379  17379.000000  17379.000000   \n",
            "mean    8690.0000  2012-01-02 04:08:34.552045568      2.501640      0.502561   \n",
            "min        1.0000            2011-01-01 00:00:00      1.000000      0.000000   \n",
            "25%     4345.5000            2011-07-04 00:00:00      2.000000      0.000000   \n",
            "50%     8690.0000            2012-01-02 00:00:00      3.000000      1.000000   \n",
            "75%    13034.5000            2012-07-02 00:00:00      3.000000      1.000000   \n",
            "max    17379.0000            2012-12-31 00:00:00      4.000000      1.000000   \n",
            "std     5017.0295                            NaN      1.106918      0.500008   \n",
            "\n",
            "             mnth_x            hr     holiday_x     weekday_x  workingday_x  \\\n",
            "count  17379.000000  17379.000000  17379.000000  17379.000000  17379.000000   \n",
            "mean       6.537775     11.546752      0.028770      3.003683      0.682721   \n",
            "min        1.000000      0.000000      0.000000      0.000000      0.000000   \n",
            "25%        4.000000      6.000000      0.000000      1.000000      0.000000   \n",
            "50%        7.000000     12.000000      0.000000      3.000000      1.000000   \n",
            "75%       10.000000     18.000000      0.000000      5.000000      1.000000   \n",
            "max       12.000000     23.000000      1.000000      6.000000      1.000000   \n",
            "std        3.438776      6.914405      0.167165      2.005771      0.465431   \n",
            "\n",
            "       weathersit_x  ...     weekday_y  workingday_y  weathersit_y  \\\n",
            "count  17379.000000  ...  17379.000000  17379.000000  17379.000000   \n",
            "mean       1.425283  ...      3.003683      0.682721      1.391680   \n",
            "min        1.000000  ...      0.000000      0.000000      1.000000   \n",
            "25%        1.000000  ...      1.000000      0.000000      1.000000   \n",
            "50%        1.000000  ...      3.000000      1.000000      1.000000   \n",
            "75%        2.000000  ...      5.000000      1.000000      2.000000   \n",
            "max        4.000000  ...      6.000000      1.000000      3.000000   \n",
            "std        0.639357  ...      2.005771      0.465431      0.540501   \n",
            "\n",
            "           day_temp     day_atemp       day_hum  day_windspeed      casual_y  \\\n",
            "count  17379.000000  17379.000000  17379.000000   17379.000000  17379.000000   \n",
            "mean       0.496987      0.475775      0.627229       0.190098    854.339720   \n",
            "min        0.059130      0.079070      0.000000       0.022392      2.000000   \n",
            "25%        0.340000      0.338363      0.520000       0.134950    318.000000   \n",
            "50%        0.502500      0.490122      0.625833       0.180967    724.000000   \n",
            "75%        0.655833      0.610488      0.729583       0.233204   1100.000000   \n",
            "max        0.861667      0.840896      0.972500       0.507463   3410.000000   \n",
            "std        0.182445      0.162426      0.141779       0.077204    685.686754   \n",
            "\n",
            "       registered_y         cnt_y  \n",
            "count  17379.000000  17379.000000  \n",
            "mean    3679.353242   4533.692963  \n",
            "min       20.000000     22.000000  \n",
            "25%     2545.000000   3214.000000  \n",
            "50%     3681.000000   4563.000000  \n",
            "75%     4801.000000   5986.000000  \n",
            "max     6946.000000   8714.000000  \n",
            "std     1544.953518   1917.376947  \n",
            "\n",
            "[8 rows x 31 columns]\n"
          ]
        }
      ],
      "source": [
        "# Menggabungkan dataset\n",
        "main_data = pd.merge(hour_data, day_data, on=['dteday', 'yr'], how='inner')\n",
        "\n",
        "# Melihat informasi umum tentang dataset gabungan\n",
        "print(main_data.info())\n",
        "print(main_data.describe())"
      ]
    },
    {
      "cell_type": "markdown",
      "source": [
        "**Insight:**\n",
        "- EDA membantu kita memahami pola dan hubungan dalam data. Kita dapat mengeksplorasi distribusi penyewaan sepeda berdasarkan berbagai faktor seperti suhu, kelembapan, dan kondisi cuaca.\n",
        "- Dengan visualisasi, kita dapat mengidentifikasi tren dan pola yang mungkin tidak terlihat hanya dengan melihat angka."
      ],
      "metadata": {
        "id": "th_Lzl2Fkj9O"
      }
    },
    {
      "cell_type": "markdown",
      "metadata": {
        "id": "zsyZjqak8DC2"
      },
      "source": [
        "## Visualization & Explanatory Analysis"
      ]
    },
    {
      "cell_type": "markdown",
      "metadata": {
        "id": "HZxOiQ6n8DC2"
      },
      "source": [
        "### Pertanyaan 1:"
      ]
    },
    {
      "cell_type": "code",
      "execution_count": 48,
      "metadata": {
        "id": "1swJUdAD8DC2",
        "colab": {
          "base_uri": "https://localhost:8080/",
          "height": 649
        },
        "outputId": "27ede325-b112-41ab-a865-ba70c6d557e8"
      },
      "outputs": [
        {
          "output_type": "stream",
          "name": "stderr",
          "text": [
            "<ipython-input-48-425692cffbef>:6: FutureWarning: The default of observed=False is deprecated and will be changed to True in a future version of pandas. Pass observed=False to retain current behavior or observed=True to adopt the future default and silence this warning.\n",
            "  avg_rentals_by_temp = main_data.groupby('temp_category')['cnt_y'].mean().reset_index()\n"
          ]
        },
        {
          "output_type": "display_data",
          "data": {
            "text/plain": [
              "<Figure size 1200x600 with 1 Axes>"
            ],
            "image/png": "[encoded data removed]"
          },
          "metadata": {}
        }
      ],
      "source": [
        "# Bar Plot\n",
        "# Membuat kategori suhu\n",
        "main_data['temp_category'] = pd.cut(main_data['day_temp'], bins=np.arange(0, 1.1, 0.1), labels=[f'{i:.1f}-{i+0.1:.1f}' for i in np.arange(0, 1, 0.1)])\n",
        "\n",
        "# Menghitung rata-rata penyewaan berdasarkan kategori suhu\n",
        "avg_rentals_by_temp = main_data.groupby('temp_category')['cnt_y'].mean().reset_index()\n",
        "\n",
        "# Visualisasi rata-rata penyewaan berdasarkan kategori suhu\n",
        "plt.figure(figsize=(12, 6))\n",
        "sns.barplot(x='temp_category', y='cnt_y', data=avg_rentals_by_temp)\n",
        "plt.title('Rata-rata Jumlah Penyewaan Sepeda Berdasarkan Kategori Suhu')\n",
        "plt.xlabel('Kategori Suhu (Normalisasi)')\n",
        "plt.ylabel('Rata-rata Jumlah Penyewaan')\n",
        "plt.xticks(rotation=45)\n",
        "plt.show()"
      ]
    },
    {
      "cell_type": "markdown",
      "metadata": {
        "id": "DgHI7CiU8DC2"
      },
      "source": [
        "### Pertanyaan 2:"
      ]
    },
    {
      "cell_type": "code",
      "execution_count": 49,
      "metadata": {
        "id": "Go0lCsvO8DC2",
        "colab": {
          "base_uri": "https://localhost:8080/",
          "height": 1000
        },
        "outputId": "1113a7f9-4d09-404f-c52b-c2a692923859"
      },
      "outputs": [
        {
          "output_type": "stream",
          "name": "stdout",
          "text": [
            "Index(['instant_x', 'dteday', 'season_x', 'yr', 'mnth_x', 'hr', 'holiday_x',\n",
            "       'weekday_x', 'workingday_x', 'weathersit_x', 'temp', 'atemp', 'hum',\n",
            "       'windspeed', 'casual_x', 'registered_x', 'cnt_x', 'instant_y',\n",
            "       'season_y', 'mnth_y', 'holiday_y', 'weekday_y', 'workingday_y',\n",
            "       'weathersit_y', 'day_temp', 'day_atemp', 'day_hum', 'day_windspeed',\n",
            "       'casual_y', 'registered_y', 'cnt_y', 'temp_category'],\n",
            "      dtype='object')\n"
          ]
        },
        {
          "output_type": "display_data",
          "data": {
            "text/plain": [
              "<Figure size 1200x600 with 1 Axes>"
            ],
            "image/png": "[encoded data removed]"
          },
          "metadata": {}
        },
        {
          "output_type": "display_data",
          "data": {
            "text/plain": [
              "<Figure size 1200x600 with 1 Axes>"
            ],
            "image/png": "[encoded data removed]"
          },
          "metadata": {}
        }
      ],
      "source": [
        "# Memeriksa kolom yang ada di main_data\n",
        "print(main_data.columns)\n",
        "\n",
        "# Visualisasi penyewaan berdasarkan musim\n",
        "plt.figure(figsize=(12, 6))\n",
        "season_rentals = main_data.groupby('season_x')['cnt_x'].sum().reset_index()\n",
        "season_rentals['season_x'] = season_rentals['season_x'].map({1: 'Spring', 2: 'Summer', 3: 'Fall', 4: 'Winter'})\n",
        "sns.barplot(x='season_x', y='cnt_x', data=season_rentals)\n",
        "plt.title('Penyewaan Sepeda per Musim')\n",
        "plt.xlabel('Musim')\n",
        "plt.ylabel('Jumlah Penyewaan')\n",
        "plt.show()\n",
        "\n",
        "# Visualisasi penyewaan berdasarkan hari dalam seminggu\n",
        "plt.figure(figsize=(12, 6))\n",
        "weekday_rentals = main_data.groupby('weekday_y')['cnt_y'].sum().reset_index()\n",
        "sns.barplot(x='weekday_y', y='cnt_y', data=weekday_rentals)\n",
        "plt.title('Penyewaan Sepeda per Hari dalam Seminggu')\n",
        "plt.xlabel('Hari dalam Seminggu')\n",
        "plt.ylabel('Jumlah Penyewaan')\n",
        "plt.xticks(ticks=np.arange(7), labels=['Senin', 'Selasa', 'Rabu', 'Kamis', 'Jumat', 'Sabtu', 'Minggu'])\n",
        "plt.show()"
      ]
    },
    {
      "cell_type": "markdown",
      "source": [
        "**Insight:**\n",
        "- Visualisasi memberikan cara yang kuat untuk menyampaikan informasi. Dengan menggunakan box plot dan bar plot, kita dapat menunjukkan bagaimana suhu dan musim memengaruhi jumlah penyewaan sepeda.\n",
        "- Visualisasi yang baik membantu dalam menarik kesimpulan yang lebih jelas dan mendukung pengambilan keputusan."
      ],
      "metadata": {
        "id": "_0-36BDLklRg"
      }
    },
    {
      "cell_type": "markdown",
      "source": [
        "## Analisis Lanjutan (Opsional)"
      ],
      "metadata": {
        "id": "9y4VUsmcYNZ5"
      }
    },
    {
      "cell_type": "code",
      "source": [
        "from sklearn.model_selection import train_test_split\n",
        "from sklearn.linear_model import LinearRegression\n",
        "from sklearn.metrics import mean_absolute_error, r2_score\n",
        "\n",
        "# Analisis Lanjutan: Regresi Linier\n",
        "\n",
        "# 1. Menyiapkan Data\n",
        "# Memilih fitur dan target variabel\n",
        "features = ['day_temp', 'day_atemp', 'hum', 'day_windspeed', 'weathersit_y']\n",
        "X = main_data[features]\n",
        "y = main_data['cnt_y']\n",
        "\n",
        "# 2. Membagi Data\n",
        "from sklearn.model_selection import train_test_split\n",
        "X_train, X_test, y_train, y_test = train_test_split(X, y, test_size=0.2, random_state=42)\n",
        "\n",
        "# 3. Membangun Model Regresi Linier\n",
        "from sklearn.linear_model import LinearRegression\n",
        "from sklearn.metrics import mean_absolute_error, r2_score\n",
        "\n",
        "# Membuat model\n",
        "model = LinearRegression()\n",
        "model.fit(X_train, y_train)\n",
        "\n",
        "# 4. Memprediksi dan Evaluasi Model\n",
        "y_pred = model.predict(X_test)\n",
        "\n",
        "# Menghitung metrik evaluasi\n",
        "mae = mean_absolute_error(y_test, y_pred)\n",
        "r2 = r2_score(y_test, y_pred)\n",
        "\n",
        "# Menampilkan hasil\n",
        "print(f'Mean Absolute Error: {mae}')\n",
        "print(f'R-squared: {r2}')\n",
        "\n",
        "# Menampilkan koefisien regresi\n",
        "coefficients = pd.DataFrame(model.coef_, features, columns=['Coefficient'])\n",
        "print(coefficients)"
      ],
      "metadata": {
        "id": "iWhnzsJGYUCO",
        "colab": {
          "base_uri": "https://localhost:8080/"
        },
        "outputId": "23d9734b-ab80-44b8-baff-f5026a38113a"
      },
      "execution_count": 64,
      "outputs": [
        {
          "output_type": "stream",
          "name": "stdout",
          "text": [
            "Mean Absolute Error: 1144.5349797165186\n",
            "R-squared: 0.46116452897257476\n",
            "               Coefficient\n",
            "day_temp       3069.780413\n",
            "day_atemp      3544.135092\n",
            "hum            -752.479645\n",
            "day_windspeed -3431.923920\n",
            "weathersit_y   -652.558051\n"
          ]
        }
      ]
    },
    {
      "cell_type": "markdown",
      "source": [
        "- Melakukan analisis regresi linier memungkinkan kita untuk memahami hubungan antara variabel independen (seperti suhu, kelembapan, dan kecepatan angin) dan variabel dependen (jumlah penyewaan).\n",
        "- Dengan model regresi, kita dapat memprediksi jumlah penyewaan berdasarkan faktor-faktor tersebut, memberikan wawasan yang lebih dalam tentang bagaimana setiap faktor berkontribusi terhadap penyewaan sepeda"
      ],
      "metadata": {
        "id": "4wtz_F_72YWk"
      }
    },
    {
      "cell_type": "markdown",
      "metadata": {
        "id": "_WeHlCeX8DC2"
      },
      "source": [
        "## Conclusion"
      ]
    },
    {
      "cell_type": "markdown",
      "metadata": {
        "id": "ZTcyR48Y8DC2"
      },
      "source": [
        "- Kesimpulan dari analisis memberikan ringkasan dari temuan utama. Misalnya, kita dapat menyimpulkan bahwa suhu memiliki pengaruh positif yang signifikan terhadap jumlah penyewaan sepeda, dan bahwa penyewaan bervariasi berdasarkan musim dan hari dalam seminggu.\n",
        "- Kesimpulan ini dapat digunakan untuk merumuskan strategi bisnis, seperti meningkatkan promosi pada hari-hari tertentu atau saat suhu tinggi.\n",
        "\n",
        "Setiap langkah dalam analisis data memiliki tujuan dan memberikan wawasan yang berbeda. Dari pengumpulan data hingga kesimpulan, proses ini membantu kita memahami faktor-faktor yang memengaruhi penyewaan sepeda dan memberikan dasar untuk pengambilan keputusan yang lebih baik. Dengan menggunakan teknik analisis dan visualisasi yang tepat, kita dapat menggali informasi yang berharga dari data yang kita miliki."
      ]
    }
  ],
  "metadata": {
    "kernelspec": {
      "display_name": "Python 3",
      "language": "python",
      "name": "python3"
    },
    "language_info": {
      "name": "python",
      "version": "3.8.0 (tags/v3.8.0:fa919fd, Oct 14 2019, 19:21:23) [MSC v.1916 32 bit (Intel)]"
    },
    "orig_nbformat": 4,
    "vscode": {
      "interpreter": {
        "hash": "972b3bf27e332e87b5379f2791f6ef9dfc79c71018c370b0d7423235e20fe4d7"
      }
    },
    "colab": {
      "provenance": []
    }
  },
  "nbformat": 4,
  "nbformat_minor": 0
}